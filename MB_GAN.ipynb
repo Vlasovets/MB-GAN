{
  "nbformat": 4,
  "nbformat_minor": 0,
  "metadata": {
    "colab": {
      "name": "MB-GAN.ipynb",
      "provenance": [],
      "collapsed_sections": [],
      "authorship_tag": "ABX9TyPnZiCwLuvs0O/H9IQJL8Tk",
      "include_colab_link": true
    },
    "kernelspec": {
      "name": "python3",
      "display_name": "Python 3"
    },
    "language_info": {
      "name": "python"
    },
    "accelerator": "GPU"
  },
  "cells": [
    {
      "cell_type": "markdown",
      "metadata": {
        "id": "view-in-github",
        "colab_type": "text"
      },
      "source": [
        "<a href=\"https://colab.research.google.com/github/Vlasovets/MB-GAN/blob/master/MB_GAN.ipynb\" target=\"_parent\"><img src=\"https://colab.research.google.com/assets/colab-badge.svg\" alt=\"Open In Colab\"/></a>"
      ]
    },
    {
      "cell_type": "code",
      "metadata": {
        "id": "ciJHzRuBdh4v",
        "colab": {
          "base_uri": "https://localhost:8080/"
        },
        "outputId": "5f28c3b8-fc54-416b-aee8-d39627947c81"
      },
      "source": [
        "! git clone https://github.com/zhanxw/MB-GAN.git"
      ],
      "execution_count": 1,
      "outputs": [
        {
          "output_type": "stream",
          "name": "stdout",
          "text": [
            "Cloning into 'MB-GAN'...\n",
            "remote: Enumerating objects: 164, done.\u001b[K\n",
            "remote: Counting objects: 100% (34/34), done.\u001b[K\n",
            "remote: Compressing objects: 100% (34/34), done.\u001b[K\n",
            "remote: Total 164 (delta 15), reused 8 (delta 0), pack-reused 130\u001b[K\n",
            "Receiving objects: 100% (164/164), 250.10 MiB | 29.33 MiB/s, done.\n",
            "Resolving deltas: 100% (54/54), done.\n",
            "Checking out files: 100% (64/64), done.\n"
          ]
        }
      ]
    },
    {
      "cell_type": "code",
      "metadata": {
        "id": "4IOwPNDTdmTN",
        "colab": {
          "base_uri": "https://localhost:8080/"
        },
        "outputId": "b65f1b1b-730e-4508-d1b8-d5dc209ab5b5"
      },
      "source": [
        "%cd MB-GAN/"
      ],
      "execution_count": 2,
      "outputs": [
        {
          "output_type": "stream",
          "name": "stdout",
          "text": [
            "/content/MB-GAN\n"
          ]
        }
      ]
    },
    {
      "cell_type": "code",
      "metadata": {
        "id": "2qljr_y1fSGX"
      },
      "source": [
        "!python utils.py"
      ],
      "execution_count": 20,
      "outputs": []
    },
    {
      "cell_type": "code",
      "metadata": {
        "id": "CuD2YiENd8yT"
      },
      "source": [
        "import numpy as np\n",
        "import pandas as pd\n",
        "from keras import backend as K\n",
        "from keras.models import load_model\n",
        "from keras.layers import Layer\n",
        "import pickle\n",
        "from scipy.stats import describe\n",
        "from utils import shannon_entropy, get_sparsity\n",
        "\n",
        "import os\n",
        "os.environ[\"CUDA_DEVICE_ORDER\"] = \"PCI_BUS_ID\"\n",
        "os.environ[\"CUDA_VISIBLE_DEVICES\"] = \"\"\n",
        "\n",
        "SEED = 256\n",
        "TOL = 1e-4"
      ],
      "execution_count": 21,
      "outputs": []
    },
    {
      "cell_type": "code",
      "metadata": {
        "id": "dNTrNQlUe7X_"
      },
      "source": [
        "class PhyloTransform(Layer):\n",
        "    def __init__(self, transform, **kwargs):\n",
        "        self.output_dim = transform.shape[1:]\n",
        "        self.kernel = K.constant(transform, dtype='float32')\n",
        "        super(PhyloTransform, self).__init__(**kwargs)\n",
        "\n",
        "    def call(self, x):\n",
        "        return K.dot(x, self.kernel)\n",
        "    \n",
        "    def compute_output_shape(self, input_shape):\n",
        "        return (input_shape[0], ) + self.output_dim\n",
        "\n",
        "\n",
        "def predict(generator, n_samples=1000, transform=None, seed=None):\n",
        "    np.random.seed(seed)\n",
        "    latent_dim = generator.inputs[0].shape[-1]\n",
        "    z = np.random.normal(0, 1, (n_samples, latent_dim))\n",
        "    res = generator.predict(z)\n",
        "    if transform is not None:\n",
        "        res = transform(res)\n",
        "    \n",
        "    return res"
      ],
      "execution_count": 22,
      "outputs": []
    },
    {
      "cell_type": "code",
      "metadata": {
        "id": "PDI153YZgS0I"
      },
      "source": [
        "## Load raw dataset\n",
        "raw_data = pickle.load(open(\"data/raw_data.pkl\", 'rb'))\n",
        "dataset = raw_data.iloc[:,1:].values/100.\n",
        "labels = raw_data[\"group\"].values\n",
        "taxa_list = raw_data.columns[1:]\n",
        "data_o_case = dataset[labels == 'case']\n",
        "data_o_ctrl = dataset[labels == 'ctrl']"
      ],
      "execution_count": 25,
      "outputs": []
    },
    {
      "cell_type": "code",
      "metadata": {
        "colab": {
          "base_uri": "https://localhost:8080/"
        },
        "id": "kXjoaLmbgV34",
        "outputId": "95e96399-f187-40c3-c1ef-ee0517ca7987"
      },
      "source": [
        "## Generate data\n",
        "GENERATOR_CASE_PATH = os.path.join('models', 'stool_2_case_generator.h5')\n",
        "GENERATOR_CTRL_PATH = os.path.join('models', 'stool_2_ctrl_generator.h5')\n",
        "generator_case = load_model(GENERATOR_CASE_PATH)  #, custom_objects={'PhyloTransform': PhyloTransform})\n",
        "generator_ctrl = load_model(GENERATOR_CTRL_PATH)  #, custom_objects={'PhyloTransform': PhyloTransform})\n",
        "data_g_case = predict(generator_case, n_samples=1000, seed=SEED)\n",
        "data_g_ctrl = predict(generator_ctrl, n_samples=1000, seed=SEED)"
      ],
      "execution_count": 28,
      "outputs": [
        {
          "output_type": "stream",
          "name": "stdout",
          "text": [
            "WARNING:tensorflow:No training configuration found in the save file, so the model was *not* compiled. Compile it manually.\n",
            "WARNING:tensorflow:No training configuration found in the save file, so the model was *not* compiled. Compile it manually.\n"
          ]
        }
      ]
    },
    {
      "cell_type": "code",
      "metadata": {
        "colab": {
          "base_uri": "https://localhost:8080/",
          "height": 428
        },
        "id": "9ir6JBAVgmja",
        "outputId": "90127df8-8767-414a-ac1a-46c8275963c5"
      },
      "source": [
        "## Show data statistics\n",
        "print(\"Sparsity\")\n",
        "display(pd.DataFrame(\n",
        "    [describe(get_sparsity(data_o_ctrl, TOL)),\n",
        "     describe(get_sparsity(data_g_ctrl, TOL)),\n",
        "     describe(get_sparsity(data_o_case, TOL)),\n",
        "     describe(get_sparsity(data_g_case, TOL)),], \n",
        "    index=['Original ctrl', 'GAN ctrl', 'Original case', 'GAN case']))\n",
        "print(\"Shannon Entropy\")\n",
        "display(pd.DataFrame(\n",
        "    [describe(shannon_entropy(data_o_ctrl)),\n",
        "     describe(shannon_entropy(data_g_ctrl)),\n",
        "     describe(shannon_entropy(data_o_case)),\n",
        "     describe(shannon_entropy(data_g_case)),], \n",
        "    index=['Original ctrl', 'GAN ctrl', 'Original case', 'GAN case']))"
      ],
      "execution_count": 29,
      "outputs": [
        {
          "output_type": "stream",
          "name": "stdout",
          "text": [
            "Sparsity\n"
          ]
        },
        {
          "output_type": "display_data",
          "data": {
            "text/html": [
              "<div>\n",
              "<style scoped>\n",
              "    .dataframe tbody tr th:only-of-type {\n",
              "        vertical-align: middle;\n",
              "    }\n",
              "\n",
              "    .dataframe tbody tr th {\n",
              "        vertical-align: top;\n",
              "    }\n",
              "\n",
              "    .dataframe thead th {\n",
              "        text-align: right;\n",
              "    }\n",
              "</style>\n",
              "<table border=\"1\" class=\"dataframe\">\n",
              "  <thead>\n",
              "    <tr style=\"text-align: right;\">\n",
              "      <th></th>\n",
              "      <th>nobs</th>\n",
              "      <th>minmax</th>\n",
              "      <th>mean</th>\n",
              "      <th>variance</th>\n",
              "      <th>skewness</th>\n",
              "      <th>kurtosis</th>\n",
              "    </tr>\n",
              "  </thead>\n",
              "  <tbody>\n",
              "    <tr>\n",
              "      <th>Original ctrl</th>\n",
              "      <td>248</td>\n",
              "      <td>(0.8191933240611962, 0.9457579972183588)</td>\n",
              "      <td>0.892122</td>\n",
              "      <td>0.000268</td>\n",
              "      <td>-0.093724</td>\n",
              "      <td>1.696552</td>\n",
              "    </tr>\n",
              "    <tr>\n",
              "      <th>GAN ctrl</th>\n",
              "      <td>1000</td>\n",
              "      <td>(0.7858136300417247, 0.9624478442280946)</td>\n",
              "      <td>0.872316</td>\n",
              "      <td>0.000642</td>\n",
              "      <td>0.042301</td>\n",
              "      <td>0.522135</td>\n",
              "    </tr>\n",
              "    <tr>\n",
              "      <th>Original case</th>\n",
              "      <td>148</td>\n",
              "      <td>(0.8219749652294854, 0.9429763560500696)</td>\n",
              "      <td>0.887813</td>\n",
              "      <td>0.000424</td>\n",
              "      <td>0.309246</td>\n",
              "      <td>0.427984</td>\n",
              "    </tr>\n",
              "    <tr>\n",
              "      <th>GAN case</th>\n",
              "      <td>1000</td>\n",
              "      <td>(0.7649513212795549, 0.9707927677329624)</td>\n",
              "      <td>0.866573</td>\n",
              "      <td>0.001240</td>\n",
              "      <td>0.059911</td>\n",
              "      <td>-0.264223</td>\n",
              "    </tr>\n",
              "  </tbody>\n",
              "</table>\n",
              "</div>"
            ],
            "text/plain": [
              "               nobs  ...  kurtosis\n",
              "Original ctrl   248  ...  1.696552\n",
              "GAN ctrl       1000  ...  0.522135\n",
              "Original case   148  ...  0.427984\n",
              "GAN case       1000  ... -0.264223\n",
              "\n",
              "[4 rows x 6 columns]"
            ]
          },
          "metadata": {}
        },
        {
          "output_type": "stream",
          "name": "stdout",
          "text": [
            "Shannon Entropy\n"
          ]
        },
        {
          "output_type": "stream",
          "name": "stderr",
          "text": [
            "/content/MB-GAN/utils.py:11: RuntimeWarning: divide by zero encountered in log\n",
            "  return -np.sum(np.where(x > tol, x * np.log(x), 0), axis=-1)\n",
            "/content/MB-GAN/utils.py:11: RuntimeWarning: invalid value encountered in multiply\n",
            "  return -np.sum(np.where(x > tol, x * np.log(x), 0), axis=-1)\n"
          ]
        },
        {
          "output_type": "display_data",
          "data": {
            "text/html": [
              "<div>\n",
              "<style scoped>\n",
              "    .dataframe tbody tr th:only-of-type {\n",
              "        vertical-align: middle;\n",
              "    }\n",
              "\n",
              "    .dataframe tbody tr th {\n",
              "        vertical-align: top;\n",
              "    }\n",
              "\n",
              "    .dataframe thead th {\n",
              "        text-align: right;\n",
              "    }\n",
              "</style>\n",
              "<table border=\"1\" class=\"dataframe\">\n",
              "  <thead>\n",
              "    <tr style=\"text-align: right;\">\n",
              "      <th></th>\n",
              "      <th>nobs</th>\n",
              "      <th>minmax</th>\n",
              "      <th>mean</th>\n",
              "      <th>variance</th>\n",
              "      <th>skewness</th>\n",
              "      <th>kurtosis</th>\n",
              "    </tr>\n",
              "  </thead>\n",
              "  <tbody>\n",
              "    <tr>\n",
              "      <th>Original ctrl</th>\n",
              "      <td>248</td>\n",
              "      <td>(1.4803902227728476, 3.8584069736393483)</td>\n",
              "      <td>2.972720</td>\n",
              "      <td>0.156112</td>\n",
              "      <td>-1.144235</td>\n",
              "      <td>1.845062</td>\n",
              "    </tr>\n",
              "    <tr>\n",
              "      <th>GAN ctrl</th>\n",
              "      <td>1000</td>\n",
              "      <td>(0.67656565, 3.8749592)</td>\n",
              "      <td>2.972613</td>\n",
              "      <td>0.185524</td>\n",
              "      <td>-1.010242</td>\n",
              "      <td>1.546127</td>\n",
              "    </tr>\n",
              "    <tr>\n",
              "      <th>Original case</th>\n",
              "      <td>148</td>\n",
              "      <td>(1.7056071992903896, 3.8471567050900752)</td>\n",
              "      <td>3.077932</td>\n",
              "      <td>0.170170</td>\n",
              "      <td>-1.038462</td>\n",
              "      <td>0.986683</td>\n",
              "    </tr>\n",
              "    <tr>\n",
              "      <th>GAN case</th>\n",
              "      <td>1000</td>\n",
              "      <td>(0.91057855, 3.9654443)</td>\n",
              "      <td>3.084653</td>\n",
              "      <td>0.217414</td>\n",
              "      <td>-1.323819</td>\n",
              "      <td>2.073170</td>\n",
              "    </tr>\n",
              "  </tbody>\n",
              "</table>\n",
              "</div>"
            ],
            "text/plain": [
              "               nobs  ...  kurtosis\n",
              "Original ctrl   248  ...  1.845062\n",
              "GAN ctrl       1000  ...  1.546127\n",
              "Original case   148  ...  0.986683\n",
              "GAN case       1000  ...  2.073170\n",
              "\n",
              "[4 rows x 6 columns]"
            ]
          },
          "metadata": {}
        }
      ]
    },
    {
      "cell_type": "code",
      "metadata": {
        "colab": {
          "base_uri": "https://localhost:8080/"
        },
        "id": "joFKXn9kiBCX",
        "outputId": "9ac5db7c-7937-4689-945c-63c2f8fa508f"
      },
      "source": [
        "## Save simlated data\n",
        "data_g_case"
      ],
      "execution_count": 31,
      "outputs": [
        {
          "output_type": "execute_result",
          "data": {
            "text/plain": [
              "array([[2.1831600e-03, 4.3323366e-06, 1.9520120e-01, ..., 1.0500869e-09,\n",
              "        9.8865605e-10, 2.6257508e-08],\n",
              "       [4.5983076e-01, 1.8790088e-10, 1.8271598e-08, ..., 4.2099310e-13,\n",
              "        9.0345765e-13, 2.5478007e-12],\n",
              "       [3.3938554e-07, 1.6933550e-04, 4.9903840e-02, ..., 1.3689702e-11,\n",
              "        3.7363584e-12, 1.7654847e-10],\n",
              "       ...,\n",
              "       [4.7019008e-12, 6.3298846e-09, 2.6364378e-03, ..., 8.7805333e-13,\n",
              "        2.2206721e-13, 1.5106872e-11],\n",
              "       [8.5995406e-09, 1.5247123e-05, 9.3870014e-03, ..., 6.1989268e-11,\n",
              "        8.8506008e-12, 6.1393440e-10],\n",
              "       [1.9499138e-11, 1.6391055e-13, 2.5953893e-06, ..., 2.7525822e-13,\n",
              "        1.2412178e-14, 1.7378946e-12]], dtype=float32)"
            ]
          },
          "metadata": {},
          "execution_count": 31
        }
      ]
    }
  ]
}