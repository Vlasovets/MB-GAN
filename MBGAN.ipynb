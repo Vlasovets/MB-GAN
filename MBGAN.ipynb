{
  "nbformat": 4,
  "nbformat_minor": 0,
  "metadata": {
    "colab": {
      "name": "MBGAN.ipynb",
      "provenance": [],
      "collapsed_sections": [],
      "authorship_tag": "ABX9TyPHD2KxMK9+BeQtWIdKj2Oa",
      "include_colab_link": true
    },
    "kernelspec": {
      "name": "python3",
      "display_name": "Python 3"
    },
    "language_info": {
      "name": "python"
    },
    "accelerator": "GPU"
  },
  "cells": [
    {
      "cell_type": "markdown",
      "metadata": {
        "id": "view-in-github",
        "colab_type": "text"
      },
      "source": [
        "<a href=\"https://colab.research.google.com/github/Vlasovets/MB-GAN/blob/master/MBGAN.ipynb\" target=\"_parent\"><img src=\"https://colab.research.google.com/assets/colab-badge.svg\" alt=\"Open In Colab\"/></a>"
      ]
    },
    {
      "cell_type": "code",
      "execution_count": null,
      "metadata": {
        "id": "CyJIzKFoCfpJ"
      },
      "outputs": [],
      "source": [
        "# !git clone https://github.com/zhanxw/MB-GAN.git"
      ]
    },
    {
      "cell_type": "code",
      "source": [
        "%cd MB-GAN/"
      ],
      "metadata": {
        "id": "Zbw6uzbfgKQ9"
      },
      "execution_count": null,
      "outputs": []
    },
    {
      "cell_type": "code",
      "source": [
        "import pickle\n",
        "import os\n",
        "from model import *\n",
        "from utils import *\n",
        "from mbgan_train_demo import *\n",
        "\n",
        "from keras.layers import Input"
      ],
      "metadata": {
        "id": "2WrmBLt8GVUI"
      },
      "execution_count": 9,
      "outputs": []
    },
    {
      "cell_type": "code",
      "source": [
        "FILE = \"./data/raw_data.pkl\"\n",
        "\n",
        "data_o_case, data_o_ctrl, taxa_list = load_sample_pickle_data(FILE)\n",
        "\n",
        "adj_matrix, taxa_indices = expand_phylo(taxa_list)\n",
        "\n",
        "tf_matrix = adjmatrix_to_dense(adj_matrix, shape=(len(taxa_list), len(taxa_indices)))"
      ],
      "metadata": {
        "id": "LrxWgb6cGBiN"
      },
      "execution_count": 10,
      "outputs": []
    },
    {
      "cell_type": "code",
      "source": [
        "model_config = {\n",
        "        'ntaxa': 719,\n",
        "        'latent_dim': 100,\n",
        "        'generator': {'n_channels': 512},\n",
        "        'critic': {'n_channels': 256, 'dropout_rate': 0.25, \n",
        "                   'tf_matrix': tf_matrix, 't_pow': 1000.}\n",
        "    }\n",
        "    \n",
        "train_config = {\n",
        "    'generator': {'optimizer': ('RMSprop', {}), 'lr': 0.00005},\n",
        "    'critic': {'loss_weights': [1, 1, 10], \n",
        "                'optimizer': ('RMSprop', {}), 'lr': 0.00005},\n",
        "}"
      ],
      "metadata": {
        "id": "juE9fC0JI58b"
      },
      "execution_count": 11,
      "outputs": []
    },
    {
      "cell_type": "code",
      "source": [
        "NAME = \"mbgan_case\"\n",
        "EXP_DIR = \"NielsenHB_2014_stool\"\n",
        "\n",
        "mbgan = MBGAN(NAME, model_config, train_config)\n",
        "mbgan.__dict__"
      ],
      "metadata": {
        "colab": {
          "base_uri": "https://localhost:8080/"
        },
        "id": "OGuqr9YOgWGj",
        "outputId": "cd8e4b83-aacb-44d5-efb8-da540f850d60"
      },
      "execution_count": 12,
      "outputs": [
        {
          "output_type": "execute_result",
          "data": {
            "text/plain": [
              "{'critic': <keras.engine.functional.Functional at 0x7f52566b6250>,\n",
              " 'critic_graph': <keras.engine.functional.Functional at 0x7f52d4a395d0>,\n",
              " 'generator': <keras.engine.functional.Functional at 0x7f52566d9bd0>,\n",
              " 'generator_graph': <keras.engine.functional.Functional at 0x7f52d49c9890>,\n",
              " 'latent_dim': 100,\n",
              " 'model_config': {'critic': {'dropout_rate': 0.25,\n",
              "   'n_channels': 256,\n",
              "   't_pow': 1000.0,\n",
              "   'tf_matrix': array([[1., 0., 0., ..., 0., 0., 0.],\n",
              "          [0., 1., 0., ..., 0., 0., 0.],\n",
              "          [0., 0., 1., ..., 0., 0., 0.],\n",
              "          ...,\n",
              "          [0., 0., 0., ..., 0., 0., 0.],\n",
              "          [0., 0., 0., ..., 0., 0., 0.],\n",
              "          [0., 0., 0., ..., 1., 1., 1.]])},\n",
              "  'generator': {'n_channels': 512},\n",
              "  'latent_dim': 100,\n",
              "  'ntaxa': 719},\n",
              " 'model_name': 'mbgan_case',\n",
              " 'ntaxa': 719,\n",
              " 'train_config': {'critic': {'loss_weights': [1, 1, 10],\n",
              "   'lr': 5e-05,\n",
              "   'optimizer': ('RMSprop', {})},\n",
              "  'generator': {'lr': 5e-05, 'optimizer': ('RMSprop', {})}}}"
            ]
          },
          "metadata": {},
          "execution_count": 12
        }
      ]
    },
    {
      "cell_type": "code",
      "source": [
        "ITERS = 500000\n",
        "BATCH_SIZE = 32\n",
        "SAVE_INTERVAL = 1000\n",
        "\n",
        "mbgan.train(data_o_case, iteration=ITERS, batch_size=BATCH_SIZE, \n",
        "                n_critic=5, n_generator=1, save_fn=get_save_fn(taxa_list), \n",
        "                save_interval=SAVE_INTERVAL, experiment_dir=EXP_DIR, \n",
        "            pre_processor=None, verbose=0)"
      ],
      "metadata": {
        "colab": {
          "base_uri": "https://localhost:8080/",
          "height": 1000
        },
        "id": "RQV3BrtCWXJH",
        "outputId": "002bd834-98ba-499a-c626-0387cfe5bc45"
      },
      "execution_count": 13,
      "outputs": [
        {
          "output_type": "stream",
          "name": "stdout",
          "text": [
            "#####################################################\n",
            "Training start at: 2022-06-08 13:42:22\n",
            "Run MB-GAN for 500000 iterations with batch_size=32\n",
            "Save generated samples and model every 1000 iters\n",
            "Results are exported to folder: NielsenHB_2014_stool/mbgan_case_20220608T134222\n",
            "    Create log folder: NielsenHB_2014_stool/mbgan_case_20220608T134222\n",
            "    Create model folder: NielsenHB_2014_stool/mbgan_case_20220608T134222/models\n",
            "Generator structure:\n",
            "Model: \"model_9\"\n",
            "_________________________________________________________________\n",
            " Layer (type)                Output Shape              Param #   \n",
            "=================================================================\n",
            " input_12 (InputLayer)       [(None, 100)]             0         \n",
            "                                                                 \n",
            " sequential_5 (Sequential)   (None, 719)               952015    \n",
            "                                                                 \n",
            "=================================================================\n",
            "Total params: 952,015\n",
            "Trainable params: 948,943\n",
            "Non-trainable params: 3,072\n",
            "_________________________________________________________________\n",
            "Critic structure:\n",
            "Model: \"model_8\"\n",
            "_________________________________________________________________\n",
            " Layer (type)                Output Shape              Param #   \n",
            "=================================================================\n",
            " input_11 (InputLayer)       [(None, 719)]             0         \n",
            "                                                                 \n",
            " sequential_4 (Sequential)   (None, 1)                 449281    \n",
            "                                                                 \n",
            "=================================================================\n",
            "Total params: 449,281\n",
            "Trainable params: 0\n",
            "Non-trainable params: 449,281\n",
            "_________________________________________________________________\n"
          ]
        },
        {
          "output_type": "error",
          "ename": "ValueError",
          "evalue": "ignored",
          "traceback": [
            "\u001b[0;31m---------------------------------------------------------------------------\u001b[0m",
            "\u001b[0;31mValueError\u001b[0m                                Traceback (most recent call last)",
            "\u001b[0;32m<ipython-input-13-1d0cdc030e65>\u001b[0m in \u001b[0;36m<module>\u001b[0;34m()\u001b[0m\n\u001b[1;32m      6\u001b[0m                 \u001b[0mn_critic\u001b[0m\u001b[0;34m=\u001b[0m\u001b[0;36m5\u001b[0m\u001b[0;34m,\u001b[0m \u001b[0mn_generator\u001b[0m\u001b[0;34m=\u001b[0m\u001b[0;36m1\u001b[0m\u001b[0;34m,\u001b[0m \u001b[0msave_fn\u001b[0m\u001b[0;34m=\u001b[0m\u001b[0mget_save_fn\u001b[0m\u001b[0;34m(\u001b[0m\u001b[0mtaxa_list\u001b[0m\u001b[0;34m)\u001b[0m\u001b[0;34m,\u001b[0m\u001b[0;34m\u001b[0m\u001b[0;34m\u001b[0m\u001b[0m\n\u001b[1;32m      7\u001b[0m                 \u001b[0msave_interval\u001b[0m\u001b[0;34m=\u001b[0m\u001b[0mSAVE_INTERVAL\u001b[0m\u001b[0;34m,\u001b[0m \u001b[0mexperiment_dir\u001b[0m\u001b[0;34m=\u001b[0m\u001b[0mEXP_DIR\u001b[0m\u001b[0;34m,\u001b[0m\u001b[0;34m\u001b[0m\u001b[0;34m\u001b[0m\u001b[0m\n\u001b[0;32m----> 8\u001b[0;31m             pre_processor=None, verbose=0)\n\u001b[0m",
            "\u001b[0;32m/content/MB-GAN/model.py\u001b[0m in \u001b[0;36mtrain\u001b[0;34m(self, dataset, iteration, batch_size, n_critic, n_generator, save_interval, save_fn, experiment_dir, pre_processor, verbose, **kwargs)\u001b[0m\n\u001b[1;32m    262\u001b[0m                     \u001b[0mreal\u001b[0m \u001b[0;34m=\u001b[0m \u001b[0mpre_processor\u001b[0m\u001b[0;34m(\u001b[0m\u001b[0mreal\u001b[0m\u001b[0;34m)\u001b[0m\u001b[0;34m\u001b[0m\u001b[0;34m\u001b[0m\u001b[0m\n\u001b[1;32m    263\u001b[0m                 \u001b[0mnoise\u001b[0m \u001b[0;34m=\u001b[0m \u001b[0mnp\u001b[0m\u001b[0;34m.\u001b[0m\u001b[0mrandom\u001b[0m\u001b[0;34m.\u001b[0m\u001b[0mnormal\u001b[0m\u001b[0;34m(\u001b[0m\u001b[0;36m0\u001b[0m\u001b[0;34m,\u001b[0m \u001b[0;36m1\u001b[0m\u001b[0;34m,\u001b[0m \u001b[0;34m(\u001b[0m\u001b[0mbatch_size\u001b[0m\u001b[0;34m,\u001b[0m \u001b[0mself\u001b[0m\u001b[0;34m.\u001b[0m\u001b[0mlatent_dim\u001b[0m\u001b[0;34m)\u001b[0m\u001b[0;34m)\u001b[0m\u001b[0;34m\u001b[0m\u001b[0;34m\u001b[0m\u001b[0m\n\u001b[0;32m--> 264\u001b[0;31m                 \u001b[0md_loss\u001b[0m \u001b[0;34m=\u001b[0m \u001b[0mself\u001b[0m\u001b[0;34m.\u001b[0m\u001b[0mcritic_graph\u001b[0m\u001b[0;34m.\u001b[0m\u001b[0mtrain_on_batch\u001b[0m\u001b[0;34m(\u001b[0m\u001b[0;34m[\u001b[0m\u001b[0mreal\u001b[0m\u001b[0;34m,\u001b[0m \u001b[0mnoise\u001b[0m\u001b[0;34m]\u001b[0m\u001b[0;34m,\u001b[0m \u001b[0;34m[\u001b[0m\u001b[0mvalid\u001b[0m\u001b[0;34m,\u001b[0m \u001b[0mfake\u001b[0m\u001b[0;34m,\u001b[0m \u001b[0mdummy\u001b[0m\u001b[0;34m]\u001b[0m\u001b[0;34m)\u001b[0m\u001b[0;34m\u001b[0m\u001b[0;34m\u001b[0m\u001b[0m\n\u001b[0m\u001b[1;32m    265\u001b[0m \u001b[0;34m\u001b[0m\u001b[0m\n\u001b[1;32m    266\u001b[0m             \u001b[0;32mfor\u001b[0m \u001b[0m_\u001b[0m \u001b[0;32min\u001b[0m \u001b[0mrange\u001b[0m\u001b[0;34m(\u001b[0m\u001b[0mn_generator\u001b[0m\u001b[0;34m)\u001b[0m\u001b[0;34m:\u001b[0m\u001b[0;34m\u001b[0m\u001b[0;34m\u001b[0m\u001b[0m\n",
            "\u001b[0;32m/usr/local/lib/python3.7/dist-packages/keras/engine/training.py\u001b[0m in \u001b[0;36mtrain_on_batch\u001b[0;34m(self, x, y, sample_weight, class_weight, reset_metrics, return_dict)\u001b[0m\n\u001b[1;32m   2091\u001b[0m                                                     class_weight)\n\u001b[1;32m   2092\u001b[0m       \u001b[0mself\u001b[0m\u001b[0;34m.\u001b[0m\u001b[0mtrain_function\u001b[0m \u001b[0;34m=\u001b[0m \u001b[0mself\u001b[0m\u001b[0;34m.\u001b[0m\u001b[0mmake_train_function\u001b[0m\u001b[0;34m(\u001b[0m\u001b[0;34m)\u001b[0m\u001b[0;34m\u001b[0m\u001b[0;34m\u001b[0m\u001b[0m\n\u001b[0;32m-> 2093\u001b[0;31m       \u001b[0mlogs\u001b[0m \u001b[0;34m=\u001b[0m \u001b[0mself\u001b[0m\u001b[0;34m.\u001b[0m\u001b[0mtrain_function\u001b[0m\u001b[0;34m(\u001b[0m\u001b[0miterator\u001b[0m\u001b[0;34m)\u001b[0m\u001b[0;34m\u001b[0m\u001b[0;34m\u001b[0m\u001b[0m\n\u001b[0m\u001b[1;32m   2094\u001b[0m \u001b[0;34m\u001b[0m\u001b[0m\n\u001b[1;32m   2095\u001b[0m     \u001b[0mlogs\u001b[0m \u001b[0;34m=\u001b[0m \u001b[0mtf_utils\u001b[0m\u001b[0;34m.\u001b[0m\u001b[0msync_to_numpy_or_python_type\u001b[0m\u001b[0;34m(\u001b[0m\u001b[0mlogs\u001b[0m\u001b[0;34m)\u001b[0m\u001b[0;34m\u001b[0m\u001b[0;34m\u001b[0m\u001b[0m\n",
            "\u001b[0;32m/usr/local/lib/python3.7/dist-packages/tensorflow/python/util/traceback_utils.py\u001b[0m in \u001b[0;36merror_handler\u001b[0;34m(*args, **kwargs)\u001b[0m\n\u001b[1;32m    151\u001b[0m     \u001b[0;32mexcept\u001b[0m \u001b[0mException\u001b[0m \u001b[0;32mas\u001b[0m \u001b[0me\u001b[0m\u001b[0;34m:\u001b[0m\u001b[0;34m\u001b[0m\u001b[0;34m\u001b[0m\u001b[0m\n\u001b[1;32m    152\u001b[0m       \u001b[0mfiltered_tb\u001b[0m \u001b[0;34m=\u001b[0m \u001b[0m_process_traceback_frames\u001b[0m\u001b[0;34m(\u001b[0m\u001b[0me\u001b[0m\u001b[0;34m.\u001b[0m\u001b[0m__traceback__\u001b[0m\u001b[0;34m)\u001b[0m\u001b[0;34m\u001b[0m\u001b[0;34m\u001b[0m\u001b[0m\n\u001b[0;32m--> 153\u001b[0;31m       \u001b[0;32mraise\u001b[0m \u001b[0me\u001b[0m\u001b[0;34m.\u001b[0m\u001b[0mwith_traceback\u001b[0m\u001b[0;34m(\u001b[0m\u001b[0mfiltered_tb\u001b[0m\u001b[0;34m)\u001b[0m \u001b[0;32mfrom\u001b[0m \u001b[0;32mNone\u001b[0m\u001b[0;34m\u001b[0m\u001b[0;34m\u001b[0m\u001b[0m\n\u001b[0m\u001b[1;32m    154\u001b[0m     \u001b[0;32mfinally\u001b[0m\u001b[0;34m:\u001b[0m\u001b[0;34m\u001b[0m\u001b[0;34m\u001b[0m\u001b[0m\n\u001b[1;32m    155\u001b[0m       \u001b[0;32mdel\u001b[0m \u001b[0mfiltered_tb\u001b[0m\u001b[0;34m\u001b[0m\u001b[0;34m\u001b[0m\u001b[0m\n",
            "\u001b[0;32m/usr/local/lib/python3.7/dist-packages/tensorflow/python/framework/func_graph.py\u001b[0m in \u001b[0;36mautograph_handler\u001b[0;34m(*args, **kwargs)\u001b[0m\n\u001b[1;32m   1145\u001b[0m           \u001b[0;32mexcept\u001b[0m \u001b[0mException\u001b[0m \u001b[0;32mas\u001b[0m \u001b[0me\u001b[0m\u001b[0;34m:\u001b[0m  \u001b[0;31m# pylint:disable=broad-except\u001b[0m\u001b[0;34m\u001b[0m\u001b[0;34m\u001b[0m\u001b[0m\n\u001b[1;32m   1146\u001b[0m             \u001b[0;32mif\u001b[0m \u001b[0mhasattr\u001b[0m\u001b[0;34m(\u001b[0m\u001b[0me\u001b[0m\u001b[0;34m,\u001b[0m \u001b[0;34m\"ag_error_metadata\"\u001b[0m\u001b[0;34m)\u001b[0m\u001b[0;34m:\u001b[0m\u001b[0;34m\u001b[0m\u001b[0;34m\u001b[0m\u001b[0m\n\u001b[0;32m-> 1147\u001b[0;31m               \u001b[0;32mraise\u001b[0m \u001b[0me\u001b[0m\u001b[0;34m.\u001b[0m\u001b[0mag_error_metadata\u001b[0m\u001b[0;34m.\u001b[0m\u001b[0mto_exception\u001b[0m\u001b[0;34m(\u001b[0m\u001b[0me\u001b[0m\u001b[0;34m)\u001b[0m\u001b[0;34m\u001b[0m\u001b[0;34m\u001b[0m\u001b[0m\n\u001b[0m\u001b[1;32m   1148\u001b[0m             \u001b[0;32melse\u001b[0m\u001b[0;34m:\u001b[0m\u001b[0;34m\u001b[0m\u001b[0;34m\u001b[0m\u001b[0m\n\u001b[1;32m   1149\u001b[0m               \u001b[0;32mraise\u001b[0m\u001b[0;34m\u001b[0m\u001b[0;34m\u001b[0m\u001b[0m\n",
            "\u001b[0;31mValueError\u001b[0m: in user code:\n\n    File \"/usr/local/lib/python3.7/dist-packages/keras/engine/training.py\", line 1021, in train_function  *\n        return step_function(self, iterator)\n    File \"/usr/local/lib/python3.7/dist-packages/keras/engine/training.py\", line 1010, in step_function  **\n        outputs = model.distribute_strategy.run(run_step, args=(data,))\n    File \"/usr/local/lib/python3.7/dist-packages/keras/engine/training.py\", line 1000, in run_step  **\n        outputs = model.train_step(data)\n    File \"/usr/local/lib/python3.7/dist-packages/keras/engine/training.py\", line 859, in train_step\n        y_pred = self(x, training=True)\n    File \"/usr/local/lib/python3.7/dist-packages/keras/utils/traceback_utils.py\", line 67, in error_handler\n        raise e.with_traceback(filtered_tb) from None\n    File \"/usr/local/lib/python3.7/dist-packages/keras/engine/input_spec.py\", line 200, in assert_input_compatibility\n        raise ValueError(f'Layer \"{layer_name}\" expects {len(input_spec)} input(s),'\n\n    ValueError: Exception encountered when calling layer \"model_10\" (type Functional).\n    \n    Layer \"model_8\" expects 1 input(s), but it received 2 input tensors. Inputs received: [<tf.Tensor 'IteratorGetNext:0' shape=(32, 719) dtype=float32>, <tf.Tensor 'model_10/model_9/sequential_5/activation_11/Softmax:0' shape=(32, 719) dtype=float32>]\n    \n    Call arguments received:\n      • inputs=('tf.Tensor(shape=(32, 719), dtype=float32)', 'tf.Tensor(shape=(32, 100), dtype=float32)')\n      • training=True\n      • mask=None\n"
          ]
        }
      ]
    },
    {
      "cell_type": "code",
      "source": [
        "real = data_o_case[np.random.randint(0, data_o_case.shape[0], BATCH_SIZE)]\n",
        "\n",
        "noise = np.random.normal(0, 1, (BATCH_SIZE, model_config['latent_dim']))\n",
        "\n",
        "valid = -np.ones((BATCH_SIZE, 1))\n",
        "fake =  np.ones((BATCH_SIZE, 1))\n",
        "dummy = np.zeros((BATCH_SIZE, 1))\n",
        "\n",
        "\n",
        "z = Input(shape=(model_config['latent_dim'],))\n",
        "fake_sample = generator(z)\n",
        "valid = critic(real_sample)\n",
        "fake = critic(fake_sample)\n",
        "\n",
        "critic_graph = Model(inputs=[real_sample, z], \n",
        "                     outputs=[valid, fake, validity_interpolated])\n",
        "\n",
        "# generator_graph = Model(z, valid)\n",
        "\n",
        "# d_loss = critic_graph.train_on_batch([real, noise], [valid, fake, dummy])\n",
        "# critic_graph.train_on_batch([real, noise], [valid, fake, dummy])"
      ],
      "metadata": {
        "id": "JoAVMcKmjMLo"
      },
      "execution_count": null,
      "outputs": []
    }
  ]
}